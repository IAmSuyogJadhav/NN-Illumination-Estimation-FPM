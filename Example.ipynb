{
 "cells": [
  {
   "cell_type": "code",
   "execution_count": 1,
   "metadata": {},
   "outputs": [],
   "source": [
    "from fpm import *\n",
    "from params import *\n",
    "import pandas as pd\n",
    "import numpy as np\n",
    "import torch\n",
    "import scipy.io as io\n",
    "import cv2\n",
    "\n",
    "from utils import get_label\n"
   ]
  },
  {
   "cell_type": "code",
   "execution_count": 2,
   "metadata": {},
   "outputs": [],
   "source": [
    "models = {\n",
    "    '64_raw': ('models/frcnn_64_raw', False),\n",
    "    '64_pre': ('models/frcnn_64_pre', True),\n",
    "    '128_raw': ('models/frcnn_128_raw', False),\n",
    "    '128_pre': ('models/frcnn_128_pre', True),\n",
    "    '256_raw': ('models/frcnn_256_raw', False),\n",
    "    '256_pre': ('models/frcnn_256_pre', True),\n",
    "    '512_raw': ('models/frcnn_512_raw', False),\n",
    "    '512_pre': ('models/frcnn_512_pre', True),\n",
    "    'multisize_raw': ('models/frcnn_multisize_raw', False),\n",
    "}"
   ]
  },
  {
   "cell_type": "code",
   "execution_count": 3,
   "metadata": {},
   "outputs": [],
   "source": [
    "model = '64_raw'  # ['64_raw', '64_pre', '128_raw', '128_pre', '256_raw', '256_pre', '512_raw', '512_pre', 'multisize_raw']\n",
    "\n",
    "cfg_path, preprocess_fft = models[model]\n",
    "cfg = pickle.load(open(os.path.join(cfg_path, 'cfg.pkl'), 'rb'))\n",
    "cfg.MODEL.WEIGHTS = os.path.join(cfg_path, 'model_final.pth')\n",
    "predictor = Predictor(cfg, preprocess_fft=preprocess_fft)"
   ]
  },
  {
   "cell_type": "code",
   "execution_count": 5,
   "metadata": {},
   "outputs": [
    {
     "data": {
      "text/plain": [
       "Instances(num_instances=1, image_height=128, image_width=128, fields=[pred_boxes: Boxes(tensor([[  0.0000,   3.9708, 125.3443, 127.8070]], device='cuda:0',\n",
       "       grad_fn=<IndexBackward>)), scores: tensor([0.4509], device='cuda:0', grad_fn=<IndexBackward>), pred_classes: tensor([0], device='cuda:0')])"
      ]
     },
     "execution_count": 5,
     "metadata": {},
     "output_type": "execute_result"
    }
   ],
   "source": [
    "tiff_path = 'tiffs/4.2.03_128.tiff'\n",
    "img = read_tiff(tiff_path)[0]\n",
    "img = torch.from_numpy(img).cuda()\n",
    "img = [\n",
    "    {\n",
    "        'image': img,\n",
    "    }\n",
    "]\n",
    "\n",
    "predictor.model(img)[0]['instances']"
   ]
  },
  {
   "cell_type": "markdown",
   "metadata": {},
   "source": [
    "### An example tun-through of the available functions"
   ]
  },
  {
   "cell_type": "code",
   "execution_count": null,
   "metadata": {},
   "outputs": [
    {
     "name": "stdout",
     "output_type": "stream",
     "text": [
      "Loading the model..."
     ]
    }
   ],
   "source": [
    "tiff_path = 'tiffs/4.2.03_128.tiff'\n",
    "df = pd.read_csv('~/Eval-FPM/data_512/labels.csv')\n",
    "row = get_label(f'data_512/images/4.2.03.tiff', df, return_row=True)\n",
    "illumination_params['model'] = '128_raw'  # ['64_raw', '64_pre', '128_raw', '128_pre', '256_raw', '256_pre', '512_raw', '512_pre', 'multisize_raw']\n",
    "reconstruction_params['scale'] = 2\n",
    "illumination_params['calibrate'] = False\n",
    "\n",
    "# Illumination Estimation\n",
    "discs, radii = get_illumination(tiff_path, **illumination_params)\n",
    "\n",
    "# Save Illumination Estimation Results\n",
    "save_illumination(discs, radii, tiff_path, save_params)\n",
    "\n",
    "# Reconstruction\n",
    "obj, pupil, imgs = get_reconstruction(tiff_path, discs, row, reconstruction_params)\n",
    "\n",
    "# Save Reconstruction Results\n",
    "save_reconstruction(obj, pupil, imgs, tiff_path, save_params)"
   ]
  },
  {
   "cell_type": "code",
   "execution_count": 105,
   "metadata": {},
   "outputs": [
    {
     "name": "stderr",
     "output_type": "stream",
     "text": [
      "/home/suyog_jadhav1_gmail_com/anaconda3/lib/python3.7/site-packages/ipykernel_launcher.py:4: SettingWithCopyWarning: \n",
      "A value is trying to be set on a copy of a slice from a DataFrame.\n",
      "Try using .loc[row_indexer,col_indexer] = value instead\n",
      "\n",
      "See the caveats in the documentation: https://pandas.pydata.org/pandas-docs/stable/user_guide/indexing.html#returning-a-view-versus-a-copy\n",
      "  after removing the cwd from sys.path.\n"
     ]
    },
    {
     "name": "stdout",
     "output_type": "stream",
     "text": [
      "Loading the model...Done!\n"
     ]
    },
    {
     "data": {
      "application/vnd.jupyter.widget-view+json": {
       "model_id": "",
       "version_major": 2,
       "version_minor": 0
      },
      "text/plain": [
       "HBox(children=(FloatProgress(value=0.0, description='Processing Apodization', max=60.0, style=ProgressStyle(de…"
      ]
     },
     "metadata": {},
     "output_type": "display_data"
    },
    {
     "data": {
      "application/vnd.jupyter.widget-view+json": {
       "model_id": "",
       "version_major": 2,
       "version_minor": 0
      },
      "text/plain": [
       "HBox(children=(FloatProgress(value=0.0, description='Processing PSD', max=60.0, style=ProgressStyle(descriptio…"
      ]
     },
     "metadata": {},
     "output_type": "display_data"
    },
    {
     "data": {
      "application/vnd.jupyter.widget-view+json": {
       "model_id": "77d3f9931fb74b77b8378a0f2fdb58fe",
       "version_major": 2,
       "version_minor": 0
      },
      "text/plain": [
       "HBox(children=(FloatProgress(value=0.0, description='Running Inference', max=60.0, style=ProgressStyle(descrip…"
      ]
     },
     "metadata": {},
     "output_type": "display_data"
    },
    {
     "name": "stdout",
     "output_type": "stream",
     "text": [
      "\n"
     ]
    },
    {
     "data": {
      "application/vnd.jupyter.widget-view+json": {
       "model_id": "",
       "version_major": 2,
       "version_minor": 0
      },
      "text/plain": [
       "HBox(children=(FloatProgress(value=0.0, description='Processing Apodization', max=60.0, style=ProgressStyle(de…"
      ]
     },
     "metadata": {},
     "output_type": "display_data"
    },
    {
     "name": "stdout",
     "output_type": "stream",
     "text": [
      "Performing Reconstruction..."
     ]
    },
    {
     "data": {
      "application/vnd.jupyter.widget-view+json": {
       "model_id": "",
       "version_major": 2,
       "version_minor": 0
      },
      "text/plain": [
       "HBox(children=(FloatProgress(value=0.0, description='Working...', max=40.0, style=ProgressStyle(description_wi…"
      ]
     },
     "metadata": {},
     "output_type": "display_data"
    },
    {
     "name": "stdout",
     "output_type": "stream",
     "text": [
      "Done!\n"
     ]
    }
   ],
   "source": [
    "tiff_path = '4.2.03_64.tiff'\n",
    "df = pd.read_csv('~/Eval-FPM/data_512/labels.csv')\n",
    "row = get_label(f'data_512/images/4.2.03.tiff', df, return_row=True)\n",
    "row['IMAGESIZE'] = 64\n",
    "illumination_params['do_psd'] = True\n",
    "illumination_params['visualize'] = False\n",
    "illumination_params['model'] = '64_pre'\n",
    "\n",
    "reconstruction_params['do_psd'] = False\n",
    "reconstruction_params['window'] = 'tukey'\n",
    "reconstruction_params['a'] = 0.25\n",
    "reconstruction_params['n_iters'] = 40\n",
    "\n",
    "# Illumination Estimation\n",
    "discs, radii = get_illumination(tiff_path, **illumination_params)\n",
    "\n",
    "# Save Illumination Estimation Results\n",
    "# save_illumination(discs, radii, tiff_path, save_params)\n",
    "\n",
    "# Reconstruction\n",
    "obj, pupil, imgs = get_reconstruction(tiff_path, discs, row, reconstruction_params)\n",
    "\n",
    "# Save Reconstruction Results\n",
    "# save_reconstruction(obj, pupil, imgs, tiff_path, save_params)"
   ]
  },
  {
   "cell_type": "code",
   "execution_count": 106,
   "metadata": {},
   "outputs": [
    {
     "data": {
      "text/plain": [
       "<matplotlib.image.AxesImage at 0x7f3c9a0737d0>"
      ]
     },
     "execution_count": 106,
     "metadata": {},
     "output_type": "execute_result"
    },
    {
     "data": {
      "image/png": "[encoded data removed]",
      "text/plain": [
       "<Figure size 432x288 with 1 Axes>"
      ]
     },
     "metadata": {
      "needs_background": "light"
     },
     "output_type": "display_data"
    }
   ],
   "source": [
    "plt.imshow(cp.asnumpy(cp.abs(obj)))"
   ]
  },
  {
   "cell_type": "code",
   "execution_count": 107,
   "metadata": {},
   "outputs": [
    {
     "name": "stdout",
     "output_type": "stream",
     "text": [
      "Saving illumination results...Done!\n",
      "Saving reconstruction results...Done!\n"
     ]
    }
   ],
   "source": [
    "# Save Illumination Estimation Results\n",
    "save_illumination(discs, radii, tiff_path, save_params)\n",
    "\n",
    "# Save Reconstruction Results\n",
    "save_reconstruction(obj, pupil, imgs, tiff_path, save_params)"
   ]
  },
  {
   "cell_type": "code",
   "execution_count": null,
   "metadata": {},
   "outputs": [],
   "source": []
  }
 ],
 "metadata": {
  "kernelspec": {
   "display_name": "Python 3",
   "language": "python",
   "name": "python3"
  },
  "language_info": {
   "codemirror_mode": {
    "name": "ipython",
    "version": 3
   },
   "file_extension": ".py",
   "mimetype": "text/x-python",
   "name": "python",
   "nbconvert_exporter": "python",
   "pygments_lexer": "ipython3",
   "version": "3.7.6"
  }
 },
 "nbformat": 4,
 "nbformat_minor": 4
}
